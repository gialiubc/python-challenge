{
 "cells": [
  {
   "cell_type": "code",
   "execution_count": 1,
   "id": "56f24dbe",
   "metadata": {},
   "outputs": [],
   "source": [
    "# Import Dependencies\n",
    "import pandas as pd\n",
    "from pathlib import Path"
   ]
  },
  {
   "cell_type": "code",
   "execution_count": 5,
   "id": "29be1129",
   "metadata": {},
   "outputs": [
    {
     "data": {
      "text/html": [
       "<div>\n",
       "<style scoped>\n",
       "    .dataframe tbody tr th:only-of-type {\n",
       "        vertical-align: middle;\n",
       "    }\n",
       "\n",
       "    .dataframe tbody tr th {\n",
       "        vertical-align: top;\n",
       "    }\n",
       "\n",
       "    .dataframe thead th {\n",
       "        text-align: right;\n",
       "    }\n",
       "</style>\n",
       "<table border=\"1\" class=\"dataframe\">\n",
       "  <thead>\n",
       "    <tr style=\"text-align: right;\">\n",
       "      <th></th>\n",
       "      <th>Ballot ID</th>\n",
       "      <th>County</th>\n",
       "      <th>Candidate</th>\n",
       "    </tr>\n",
       "  </thead>\n",
       "  <tbody>\n",
       "    <tr>\n",
       "      <th>0</th>\n",
       "      <td>1323913</td>\n",
       "      <td>Jefferson</td>\n",
       "      <td>Charles Casper Stockham</td>\n",
       "    </tr>\n",
       "    <tr>\n",
       "      <th>1</th>\n",
       "      <td>1005842</td>\n",
       "      <td>Jefferson</td>\n",
       "      <td>Charles Casper Stockham</td>\n",
       "    </tr>\n",
       "    <tr>\n",
       "      <th>2</th>\n",
       "      <td>1880345</td>\n",
       "      <td>Jefferson</td>\n",
       "      <td>Charles Casper Stockham</td>\n",
       "    </tr>\n",
       "    <tr>\n",
       "      <th>3</th>\n",
       "      <td>1600337</td>\n",
       "      <td>Jefferson</td>\n",
       "      <td>Charles Casper Stockham</td>\n",
       "    </tr>\n",
       "    <tr>\n",
       "      <th>4</th>\n",
       "      <td>1835994</td>\n",
       "      <td>Jefferson</td>\n",
       "      <td>Charles Casper Stockham</td>\n",
       "    </tr>\n",
       "  </tbody>\n",
       "</table>\n",
       "</div>"
      ],
      "text/plain": [
       "   Ballot ID     County                Candidate\n",
       "0    1323913  Jefferson  Charles Casper Stockham\n",
       "1    1005842  Jefferson  Charles Casper Stockham\n",
       "2    1880345  Jefferson  Charles Casper Stockham\n",
       "3    1600337  Jefferson  Charles Casper Stockham\n",
       "4    1835994  Jefferson  Charles Casper Stockham"
      ]
     },
     "execution_count": 5,
     "metadata": {},
     "output_type": "execute_result"
    }
   ],
   "source": [
    "# Make a reference to the election_data.csv file path\n",
    "election_file = Path(\"../Resources/election_data.csv\")\n",
    "\n",
    "# Import the election_data.csv file as a DataFrame\n",
    "election_df = pd.read_csv(election_file)\n",
    "\n",
    "# Check if the file is imported correctly\n",
    "election_df.head()"
   ]
  },
  {
   "cell_type": "code",
   "execution_count": 6,
   "id": "ffae2a29",
   "metadata": {},
   "outputs": [
    {
     "data": {
      "text/plain": [
       "Index(['Ballot ID', 'County', 'Candidate'], dtype='object')"
      ]
     },
     "execution_count": 6,
     "metadata": {},
     "output_type": "execute_result"
    }
   ],
   "source": [
    "# Store the header row\n",
    "header = election_df.columns\n",
    "header"
   ]
  },
  {
   "cell_type": "code",
   "execution_count": 24,
   "id": "0b5adab8",
   "metadata": {},
   "outputs": [
    {
     "name": "stdout",
     "output_type": "stream",
     "text": [
      "Total Votes: 369711\n"
     ]
    }
   ],
   "source": [
    "# The total number of votes cast\n",
    "total_votes = len(election_df)\n",
    "print(f\"Total Votes: {total_votes}\")"
   ]
  },
  {
   "cell_type": "code",
   "execution_count": 27,
   "id": "31b9aabf",
   "metadata": {},
   "outputs": [
    {
     "data": {
      "text/plain": [
       "['Charles Casper Stockham', 'Diana DeGette', 'Raymon Anthony Doane']"
      ]
     },
     "execution_count": 27,
     "metadata": {},
     "output_type": "execute_result"
    }
   ],
   "source": [
    "# A complete list of candidates who received votes\n",
    "candidates_list = election_df[\"Candidate\"].unique()\n",
    "candidates = list(candidates_list)\n",
    "candidates"
   ]
  },
  {
   "cell_type": "code",
   "execution_count": 46,
   "id": "ae2ca4a2",
   "metadata": {},
   "outputs": [
    {
     "data": {
      "text/plain": [
       "Candidate\n",
       "Charles Casper Stockham     85213\n",
       "Diana DeGette              272892\n",
       "Raymon Anthony Doane        11606\n",
       "Name: Ballot ID, dtype: int64"
      ]
     },
     "execution_count": 46,
     "metadata": {},
     "output_type": "execute_result"
    }
   ],
   "source": [
    "# The total number of votes each candidate won\n",
    "sum_df = election_df.groupby(\"Candidate\")[\"Ballot ID\"].nunique()\n",
    "sum_df"
   ]
  },
  {
   "cell_type": "code",
   "execution_count": 47,
   "id": "16d7bb82",
   "metadata": {},
   "outputs": [
    {
     "data": {
      "text/plain": [
       "[85213, 272892, 11606]"
      ]
     },
     "execution_count": 47,
     "metadata": {},
     "output_type": "execute_result"
    }
   ],
   "source": [
    "# Convert total counts of each candidate into list\n",
    "total_counts = list(sum_df)\n",
    "total_counts"
   ]
  },
  {
   "cell_type": "code",
   "execution_count": 59,
   "id": "e38f38f8",
   "metadata": {},
   "outputs": [
    {
     "data": {
      "text/html": [
       "<div>\n",
       "<style scoped>\n",
       "    .dataframe tbody tr th:only-of-type {\n",
       "        vertical-align: middle;\n",
       "    }\n",
       "\n",
       "    .dataframe tbody tr th {\n",
       "        vertical-align: top;\n",
       "    }\n",
       "\n",
       "    .dataframe thead th {\n",
       "        text-align: right;\n",
       "    }\n",
       "</style>\n",
       "<table border=\"1\" class=\"dataframe\">\n",
       "  <thead>\n",
       "    <tr style=\"text-align: right;\">\n",
       "      <th></th>\n",
       "      <th>Candidate</th>\n",
       "      <th>Total Number of Votes</th>\n",
       "      <th>Percentage of Votes</th>\n",
       "    </tr>\n",
       "  </thead>\n",
       "  <tbody>\n",
       "    <tr>\n",
       "      <th>0</th>\n",
       "      <td>Charles Casper Stockham</td>\n",
       "      <td>85213</td>\n",
       "      <td>23.049</td>\n",
       "    </tr>\n",
       "    <tr>\n",
       "      <th>1</th>\n",
       "      <td>Diana DeGette</td>\n",
       "      <td>272892</td>\n",
       "      <td>73.812</td>\n",
       "    </tr>\n",
       "    <tr>\n",
       "      <th>2</th>\n",
       "      <td>Raymon Anthony Doane</td>\n",
       "      <td>11606</td>\n",
       "      <td>3.139</td>\n",
       "    </tr>\n",
       "  </tbody>\n",
       "</table>\n",
       "</div>"
      ],
      "text/plain": [
       "                 Candidate  Total Number of Votes  Percentage of Votes\n",
       "0  Charles Casper Stockham                  85213               23.049\n",
       "1            Diana DeGette                 272892               73.812\n",
       "2     Raymon Anthony Doane                  11606                3.139"
      ]
     },
     "execution_count": 59,
     "metadata": {},
     "output_type": "execute_result"
    }
   ],
   "source": [
    "# The percentage of votes each candidate won\n",
    "new_df = pd.DataFrame(\n",
    "    {\"Candidate\":candidates,\n",
    "     \"Total Number of Votes\":total_counts           \n",
    "    })\n",
    "percentage = new_df[\"Total Number of Votes\"]/new_df[\"Total Number of Votes\"].sum()*100\n",
    "new_df[\"Percentage of Votes\"] = percentage.round(3)\n",
    "new_df"
   ]
  },
  {
   "cell_type": "code",
   "execution_count": 62,
   "id": "5c6d8dd4",
   "metadata": {},
   "outputs": [
    {
     "name": "stdout",
     "output_type": "stream",
     "text": [
      "Winner: Diana DeGette\n"
     ]
    }
   ],
   "source": [
    "# The winner of the election based on popular vote\n",
    "winner = new_df[\"Percentage of Votes\"].max()\n",
    "\n",
    "#Find the row of the winner\n",
    "winner_row = new_df[new_df[\"Percentage of Votes\"]==winner]\n",
    "\n",
    "#Find the name of the winner\n",
    "winner_name = winner_row.iloc[0,0]\n",
    "print(f\"Winner: {winner_name}\")"
   ]
  }
 ],
 "metadata": {
  "kernelspec": {
   "display_name": "Python 3 (ipykernel)",
   "language": "python",
   "name": "python3"
  },
  "language_info": {
   "codemirror_mode": {
    "name": "ipython",
    "version": 3
   },
   "file_extension": ".py",
   "mimetype": "text/x-python",
   "name": "python",
   "nbconvert_exporter": "python",
   "pygments_lexer": "ipython3",
   "version": "3.11.4"
  }
 },
 "nbformat": 4,
 "nbformat_minor": 5
}
